{
 "cells": [
  {
   "cell_type": "markdown",
   "metadata": {},
   "source": [
    "## Problem Scenario:\n",
    "In this project we have a dataset containing stock prices of Google from January-2012 to December-2016. We are required to use these stock prices for training the neural network and predict the stock prices for the month of January-2017. This is a Regression problem.\n",
    "\n",
    "To achieve this goal, we will train a **Recurrent Neural Network (LSTM)**. We will use one of the deep learning libraries, **Keras**, to build the neural network.\n",
    "\n",
    "\n",
    "## Importing the Libraries"
   ]
  },
  {
   "cell_type": "code",
   "execution_count": 1,
   "metadata": {},
   "outputs": [],
   "source": [
    "#Import libraries\n",
    "import os\n",
    "import numpy as np\n",
    "import pandas as pd\n",
    "import matplotlib.pyplot as plt\n",
    "\n",
    "#This is a magic command. It will display the plotting image directly below the code cell\n",
    "%matplotlib inline"
   ]
  },
  {
   "cell_type": "markdown",
   "metadata": {},
   "source": [
    "## Importing the Dataset"
   ]
  },
  {
   "cell_type": "code",
   "execution_count": 2,
   "metadata": {},
   "outputs": [
    {
     "data": {
      "text/html": [
       "<div>\n",
       "<style scoped>\n",
       "    .dataframe tbody tr th:only-of-type {\n",
       "        vertical-align: middle;\n",
       "    }\n",
       "\n",
       "    .dataframe tbody tr th {\n",
       "        vertical-align: top;\n",
       "    }\n",
       "\n",
       "    .dataframe thead th {\n",
       "        text-align: right;\n",
       "    }\n",
       "</style>\n",
       "<table border=\"1\" class=\"dataframe\">\n",
       "  <thead>\n",
       "    <tr style=\"text-align: right;\">\n",
       "      <th></th>\n",
       "      <th>Date</th>\n",
       "      <th>Open</th>\n",
       "      <th>High</th>\n",
       "      <th>Low</th>\n",
       "      <th>Close</th>\n",
       "      <th>Volume</th>\n",
       "    </tr>\n",
       "  </thead>\n",
       "  <tbody>\n",
       "    <tr>\n",
       "      <th>0</th>\n",
       "      <td>1/3/2012</td>\n",
       "      <td>325.25</td>\n",
       "      <td>332.83</td>\n",
       "      <td>324.97</td>\n",
       "      <td>663.59</td>\n",
       "      <td>7,380,500</td>\n",
       "    </tr>\n",
       "    <tr>\n",
       "      <th>1</th>\n",
       "      <td>1/4/2012</td>\n",
       "      <td>331.27</td>\n",
       "      <td>333.87</td>\n",
       "      <td>329.08</td>\n",
       "      <td>666.45</td>\n",
       "      <td>5,749,400</td>\n",
       "    </tr>\n",
       "    <tr>\n",
       "      <th>2</th>\n",
       "      <td>1/5/2012</td>\n",
       "      <td>329.83</td>\n",
       "      <td>330.75</td>\n",
       "      <td>326.89</td>\n",
       "      <td>657.21</td>\n",
       "      <td>6,590,300</td>\n",
       "    </tr>\n",
       "    <tr>\n",
       "      <th>3</th>\n",
       "      <td>1/6/2012</td>\n",
       "      <td>328.34</td>\n",
       "      <td>328.77</td>\n",
       "      <td>323.68</td>\n",
       "      <td>648.24</td>\n",
       "      <td>5,405,900</td>\n",
       "    </tr>\n",
       "    <tr>\n",
       "      <th>4</th>\n",
       "      <td>1/9/2012</td>\n",
       "      <td>322.04</td>\n",
       "      <td>322.29</td>\n",
       "      <td>309.46</td>\n",
       "      <td>620.76</td>\n",
       "      <td>11,688,800</td>\n",
       "    </tr>\n",
       "  </tbody>\n",
       "</table>\n",
       "</div>"
      ],
      "text/plain": [
       "       Date    Open    High     Low   Close      Volume\n",
       "0  1/3/2012  325.25  332.83  324.97  663.59   7,380,500\n",
       "1  1/4/2012  331.27  333.87  329.08  666.45   5,749,400\n",
       "2  1/5/2012  329.83  330.75  326.89  657.21   6,590,300\n",
       "3  1/6/2012  328.34  328.77  323.68  648.24   5,405,900\n",
       "4  1/9/2012  322.04  322.29  309.46  620.76  11,688,800"
      ]
     },
     "execution_count": 2,
     "metadata": {},
     "output_type": "execute_result"
    }
   ],
   "source": [
    "dataset_train_path = os.getcwd() + \"Dataset/Google_Stock_Price_Train.csv\"\n",
    "dataset_train = pd.read_csv(dataset_train_path)\n",
    "dataset_train.head()"
   ]
  },
  {
   "cell_type": "markdown",
   "metadata": {},
   "source": [
    "The dataset contains various information like displayed above. But in this project we will only use the \"Open\" stock prices for training our model. Therefore for the purpose of convenience we will create another variable that stores only the required (\"Open\" stock price) information. "
   ]
  },
  {
   "cell_type": "code",
   "execution_count": 3,
   "metadata": {},
   "outputs": [
    {
     "name": "stdout",
     "output_type": "stream",
     "text": [
      "[[325.25]\n",
      " [331.27]\n",
      " [329.83]\n",
      " ...\n",
      " [793.7 ]\n",
      " [783.33]\n",
      " [782.75]]\n",
      "********************\n",
      "(1258, 1)\n"
     ]
    }
   ],
   "source": [
    "training_set = dataset_train.iloc[:,1:2].values\n",
    "\n",
    "print(training_set)\n",
    "print(\"********************\")\n",
    "print(training_set.shape)"
   ]
  },
  {
   "cell_type": "markdown",
   "metadata": {},
   "source": [
    "Now we can see that there is only one column with the Open stock prices. There are a total of 1258 stock prices."
   ]
  },
  {
   "cell_type": "code",
   "execution_count": 4,
   "metadata": {},
   "outputs": [
    {
     "name": "stdout",
     "output_type": "stream",
     "text": [
      "<class 'pandas.core.frame.DataFrame'>\n",
      "<class 'pandas.core.frame.DataFrame'>\n",
      "<class 'numpy.ndarray'>\n"
     ]
    }
   ],
   "source": [
    "#----------------------------------------------#\n",
    "# Additional Information (Things to Remember!) #\n",
    "#----------------------------------------------#\n",
    "\n",
    "print(type(dataset_train))\n",
    "print(type(dataset_train.iloc[:,1:2]))   \n",
    "print(type(dataset_train.iloc[:,1:2].values))\n",
    "\n",
    "# iloc[rangeofRows, rangeofColumns]\n",
    "# Indexing starts from zero.\n",
    "# \":\" indicates entire range.\n",
    "# \"1:2\" indicates column one only. Because, the upper bound will be excluded. \n",
    "# mathematical operation are performed on the arrays. So, it is crusial to convert the data to arrays.\n"
   ]
  },
  {
   "cell_type": "markdown",
   "metadata": {},
   "source": [
    "## Feature scaling\n",
    "\n",
    "The performance of the neural network will be better if the entire training input is in the same range. As we can see from above the stock prices are not in the same range. So, we need to scale the training data such that they are in the same range. This process is called Feature Scaling. The two popular methods for feature scaling are:\n",
    "\n",
    "* **Standardization**\n",
    "\n",
    "$ x' = \\frac{x - \\bar{x}}{\\sigma} $\n",
    "\n",
    "where $ x $ is the original feature vector, $ \\bar{x} $ is the mean of that feature vector, and $ \\sigma $ is its standard deviation.\n",
    "\n",
    "* **Normalization** (Min-Max normalization)\n",
    "\n",
    "$ x' = \\frac{x - \\text{min}(x)}{\\text{max}(x)-\\text{min}(x)} $\n",
    "\n",
    "where $ x $ is an original value, $ x' $ is the normalized value.\n",
    "\n",
    "It is recommended to use Normalization in the case of RNN networks. Therefore we use Min-Max normalization here. You may also experiment with different feature scaling methods."
   ]
  },
  {
   "cell_type": "code",
   "execution_count": 5,
   "metadata": {},
   "outputs": [
    {
     "data": {
      "text/plain": [
       "array([[0.08581368],\n",
       "       [0.09701243],\n",
       "       [0.09433366],\n",
       "       ...,\n",
       "       [0.95725128],\n",
       "       [0.93796041],\n",
       "       [0.93688146]])"
      ]
     },
     "execution_count": 5,
     "metadata": {},
     "output_type": "execute_result"
    }
   ],
   "source": [
    "from sklearn.preprocessing import MinMaxScaler\n",
    "\n",
    "scaler = MinMaxScaler(feature_range = (0,1)) \n",
    "scaled_training_set = scaler.fit_transform(training_set)\n",
    "\n",
    "scaled_training_set"
   ]
  },
  {
   "cell_type": "markdown",
   "metadata": {},
   "source": [
    "The fit method only calculates the min and max values. It does not apply the formula on the training set. The fit_transform method applies the minmax formula on the training set. After applying the minmax formula, the transformed values will be in the range 0 and 1 i.e, the training data (features) will be in the range 0 and 1 (as shown above).\n",
    "\n",
    "## Create new Data Structure\n",
    "\n",
    "We will create a new data structure with 60 timesteps and 1 output. This means that the neural network will take in 60 inputs and produce one output. In our project, 60 stock prices i.e, stock prices corresponding to 3 previous months will be used to make the prediction. For example, the stock prices of Jan-12, Feb-12 and Mar-12 will be used to predict the stock price of the first day of Apr-12. In our training set there are 1258 stock prices:\n",
    "\n",
    "    Stock Prices(Input)   Stock Price(Output)\n",
    "    (X_train)               (y_train)\n",
    "    -----------------------------------------\n",
    "    1 to 60                  61\n",
    "    2 to 61                  62\n",
    "    3 to 62                  63\n",
    "    ......                   ...\n",
    "    1197 to 1257             1258\n",
    "\n",
    "In the next section we will create X_train and y_train data structures."
   ]
  },
  {
   "cell_type": "code",
   "execution_count": 6,
   "metadata": {},
   "outputs": [],
   "source": [
    "X_train = []\n",
    "y_train = []\n",
    "for i in range(60,1258):\n",
    "    X_train.append(scaled_training_set[i-60:i, 0])\n",
    "    y_train.append(scaled_training_set[i, 0])\n",
    "X_train = np.array(X_train)\n",
    "y_train = np.array(y_train)"
   ]
  },
  {
   "cell_type": "code",
   "execution_count": 7,
   "metadata": {},
   "outputs": [
    {
     "name": "stdout",
     "output_type": "stream",
     "text": [
      "(1198, 60)\n",
      "(1198,)\n"
     ]
    }
   ],
   "source": [
    "print(X_train.shape)\n",
    "print(y_train.shape)"
   ]
  },
  {
   "cell_type": "markdown",
   "metadata": {},
   "source": [
    "## Reshaping\n",
    "\n",
    "The input shape of the LSTM is 3D tensor with shape (batch_size, timesteps, input_dim). Batch_size represents the number of iterations required to traverse through the entire training data. Timesteps represent the number of inputs required for each prediction. In our scenario it is 60."
   ]
  },
  {
   "cell_type": "code",
   "execution_count": 8,
   "metadata": {},
   "outputs": [
    {
     "data": {
      "text/plain": [
       "(1198, 60, 1)"
      ]
     },
     "execution_count": 8,
     "metadata": {},
     "output_type": "execute_result"
    }
   ],
   "source": [
    "X_train = np.reshape(X_train,(X_train.shape[0], X_train.shape[1], 1))\n",
    "\n",
    "X_train.shape"
   ]
  },
  {
   "cell_type": "markdown",
   "metadata": {},
   "source": [
    "## Building the Neural Network"
   ]
  },
  {
   "cell_type": "code",
   "execution_count": 9,
   "metadata": {},
   "outputs": [
    {
     "name": "stderr",
     "output_type": "stream",
     "text": [
      "Using TensorFlow backend.\n"
     ]
    }
   ],
   "source": [
    "from keras.models import Sequential\n",
    "from keras.layers import LSTM\n",
    "from keras.layers import Dense\n",
    "from keras.layers import Dropout"
   ]
  },
  {
   "cell_type": "code",
   "execution_count": 10,
   "metadata": {},
   "outputs": [],
   "source": [
    "#--------------------------------------------#\n",
    "#  Initialization and Adding layers to RNN   #\n",
    "#--------------------------------------------#\n",
    "regressor = Sequential()\n",
    "\n",
    "regressor.add(LSTM(units = 50, return_sequences= True, input_shape = (X_train.shape[1], 1)))   # the first LSTM layer\n",
    "regressor.add(Dropout(0.2))                     \n",
    "\n",
    "regressor.add(LSTM(units = 50, return_sequences= True))  # the second LSTM layer\n",
    "regressor.add(Dropout(0.2))\n",
    "\n",
    "regressor.add(LSTM(units = 50, return_sequences= True))  # the third LSTM layer\n",
    "regressor.add(Dropout(0.2))\n",
    "\n",
    "regressor.add(LSTM(units = 50))  # the fourth LSTM layer\n",
    "regressor.add(Dropout(0.2))\n",
    "\n",
    "regressor.add(Dense(units=1))   # the dense layer"
   ]
  },
  {
   "cell_type": "markdown",
   "metadata": {},
   "source": [
    "If no activation function is specified in the dense layer then the linear activation is performed by default wherein, the dense layer takes a weighted sum of its inputs which corresponds to the predicted output."
   ]
  },
  {
   "cell_type": "code",
   "execution_count": 11,
   "metadata": {},
   "outputs": [
    {
     "name": "stdout",
     "output_type": "stream",
     "text": [
      "Epoch 1/100\n",
      "1198/1198 [==============================] - 8s 7ms/step - loss: 0.0659\n",
      "Epoch 2/100\n",
      "1198/1198 [==============================] - 4s 4ms/step - loss: 0.0070\n",
      "Epoch 3/100\n",
      "1198/1198 [==============================] - 4s 4ms/step - loss: 0.0057\n",
      "Epoch 4/100\n",
      "1198/1198 [==============================] - 4s 3ms/step - loss: 0.0050\n",
      "Epoch 5/100\n",
      "1198/1198 [==============================] - 4s 3ms/step - loss: 0.0054\n",
      "Epoch 6/100\n",
      "1198/1198 [==============================] - 4s 3ms/step - loss: 0.0044\n",
      "Epoch 7/100\n",
      "1198/1198 [==============================] - 4s 3ms/step - loss: 0.0044\n",
      "Epoch 8/100\n",
      "1198/1198 [==============================] - 4s 4ms/step - loss: 0.0043\n",
      "Epoch 9/100\n",
      "1198/1198 [==============================] - 4s 3ms/step - loss: 0.0048\n",
      "Epoch 10/100\n",
      "1198/1198 [==============================] - 4s 4ms/step - loss: 0.0045\n",
      "Epoch 11/100\n",
      "1198/1198 [==============================] - 4s 3ms/step - loss: 0.0040\n",
      "Epoch 12/100\n",
      "1198/1198 [==============================] - 4s 3ms/step - loss: 0.0044\n",
      "Epoch 13/100\n",
      "1198/1198 [==============================] - 4s 3ms/step - loss: 0.0041\n",
      "Epoch 14/100\n",
      "1198/1198 [==============================] - 4s 3ms/step - loss: 0.0043\n",
      "Epoch 15/100\n",
      "1198/1198 [==============================] - 4s 3ms/step - loss: 0.0040\n",
      "Epoch 16/100\n",
      "1198/1198 [==============================] - 4s 3ms/step - loss: 0.0037\n",
      "Epoch 17/100\n",
      "1198/1198 [==============================] - 4s 3ms/step - loss: 0.0036\n",
      "Epoch 18/100\n",
      "1198/1198 [==============================] - 4s 3ms/step - loss: 0.0036\n",
      "Epoch 19/100\n",
      "1198/1198 [==============================] - 4s 3ms/step - loss: 0.0034\n",
      "Epoch 20/100\n",
      "1198/1198 [==============================] - 4s 3ms/step - loss: 0.0036\n",
      "Epoch 21/100\n",
      "1198/1198 [==============================] - 4s 4ms/step - loss: 0.0033\n",
      "Epoch 22/100\n",
      "1198/1198 [==============================] - 4s 4ms/step - loss: 0.0034\n",
      "Epoch 23/100\n",
      "1198/1198 [==============================] - 4s 4ms/step - loss: 0.0038\n",
      "Epoch 24/100\n",
      "1198/1198 [==============================] - 4s 4ms/step - loss: 0.0032\n",
      "Epoch 25/100\n",
      "1198/1198 [==============================] - 4s 4ms/step - loss: 0.0032\n",
      "Epoch 26/100\n",
      "1198/1198 [==============================] - 4s 4ms/step - loss: 0.0031\n",
      "Epoch 27/100\n",
      "1198/1198 [==============================] - 4s 4ms/step - loss: 0.0033\n",
      "Epoch 28/100\n",
      "1198/1198 [==============================] - 4s 4ms/step - loss: 0.0031\n",
      "Epoch 29/100\n",
      "1198/1198 [==============================] - 4s 4ms/step - loss: 0.0030\n",
      "Epoch 30/100\n",
      "1198/1198 [==============================] - 4s 4ms/step - loss: 0.0033\n",
      "Epoch 31/100\n",
      "1198/1198 [==============================] - 4s 4ms/step - loss: 0.0035\n",
      "Epoch 32/100\n",
      "1198/1198 [==============================] - 4s 4ms/step - loss: 0.0028\n",
      "Epoch 33/100\n",
      "1198/1198 [==============================] - 4s 4ms/step - loss: 0.0027\n",
      "Epoch 34/100\n",
      "1198/1198 [==============================] - 4s 4ms/step - loss: 0.0032\n",
      "Epoch 35/100\n",
      "1198/1198 [==============================] - 4s 4ms/step - loss: 0.0029\n",
      "Epoch 36/100\n",
      "1198/1198 [==============================] - 4s 4ms/step - loss: 0.0033\n",
      "Epoch 37/100\n",
      "1198/1198 [==============================] - 4s 4ms/step - loss: 0.0027\n",
      "Epoch 38/100\n",
      "1198/1198 [==============================] - 4s 4ms/step - loss: 0.0032\n",
      "Epoch 39/100\n",
      "1198/1198 [==============================] - 4s 4ms/step - loss: 0.0030\n",
      "Epoch 40/100\n",
      "1198/1198 [==============================] - 4s 4ms/step - loss: 0.0026\n",
      "Epoch 41/100\n",
      "1198/1198 [==============================] - 4s 4ms/step - loss: 0.0025\n",
      "Epoch 42/100\n",
      "1198/1198 [==============================] - 4s 4ms/step - loss: 0.0026\n",
      "Epoch 43/100\n",
      "1198/1198 [==============================] - 4s 4ms/step - loss: 0.0025\n",
      "Epoch 44/100\n",
      "1198/1198 [==============================] - 4s 4ms/step - loss: 0.0024\n",
      "Epoch 45/100\n",
      "1198/1198 [==============================] - 4s 4ms/step - loss: 0.0024\n",
      "Epoch 46/100\n",
      "1198/1198 [==============================] - 4s 4ms/step - loss: 0.0026\n",
      "Epoch 47/100\n",
      "1198/1198 [==============================] - 4s 4ms/step - loss: 0.0026\n",
      "Epoch 48/100\n",
      "1198/1198 [==============================] - 4s 4ms/step - loss: 0.0025\n",
      "Epoch 49/100\n",
      "1198/1198 [==============================] - 4s 4ms/step - loss: 0.0023\n",
      "Epoch 50/100\n",
      "1198/1198 [==============================] - 4s 4ms/step - loss: 0.0023\n",
      "Epoch 51/100\n",
      "1198/1198 [==============================] - 4s 4ms/step - loss: 0.0026\n",
      "Epoch 52/100\n",
      "1198/1198 [==============================] - 4s 4ms/step - loss: 0.0023\n",
      "Epoch 53/100\n",
      "1198/1198 [==============================] - 4s 4ms/step - loss: 0.0023\n",
      "Epoch 54/100\n",
      "1198/1198 [==============================] - 4s 4ms/step - loss: 0.0023\n",
      "Epoch 55/100\n",
      "1198/1198 [==============================] - 4s 4ms/step - loss: 0.0024\n",
      "Epoch 56/100\n",
      "1198/1198 [==============================] - 4s 4ms/step - loss: 0.0023\n",
      "Epoch 57/100\n",
      "1198/1198 [==============================] - 4s 4ms/step - loss: 0.0021\n",
      "Epoch 58/100\n",
      "1198/1198 [==============================] - 4s 4ms/step - loss: 0.0022\n",
      "Epoch 59/100\n",
      "1198/1198 [==============================] - 4s 4ms/step - loss: 0.0023\n",
      "Epoch 60/100\n",
      "1198/1198 [==============================] - 4s 4ms/step - loss: 0.0025\n",
      "Epoch 61/100\n",
      "1198/1198 [==============================] - 4s 4ms/step - loss: 0.0022\n",
      "Epoch 62/100\n",
      "1198/1198 [==============================] - 4s 4ms/step - loss: 0.0020\n",
      "Epoch 63/100\n",
      "1198/1198 [==============================] - 4s 4ms/step - loss: 0.0021\n",
      "Epoch 64/100\n",
      "1198/1198 [==============================] - 4s 4ms/step - loss: 0.0022\n",
      "Epoch 65/100\n",
      "1198/1198 [==============================] - 4s 4ms/step - loss: 0.0021\n",
      "Epoch 66/100\n",
      "1198/1198 [==============================] - 4s 4ms/step - loss: 0.0020\n",
      "Epoch 67/100\n",
      "1198/1198 [==============================] - 4s 4ms/step - loss: 0.0022\n",
      "Epoch 68/100\n",
      "1198/1198 [==============================] - 4s 4ms/step - loss: 0.0021\n",
      "Epoch 69/100\n",
      "1198/1198 [==============================] - 4s 4ms/step - loss: 0.0020\n",
      "Epoch 70/100\n",
      "1198/1198 [==============================] - 4s 4ms/step - loss: 0.0019\n",
      "Epoch 71/100\n",
      "1198/1198 [==============================] - 4s 4ms/step - loss: 0.0017\n",
      "Epoch 72/100\n",
      "1198/1198 [==============================] - 4s 4ms/step - loss: 0.0018\n",
      "Epoch 73/100\n",
      "1198/1198 [==============================] - 4s 4ms/step - loss: 0.0018\n",
      "Epoch 74/100\n",
      "1198/1198 [==============================] - 4s 4ms/step - loss: 0.0019\n",
      "Epoch 75/100\n",
      "1198/1198 [==============================] - 4s 4ms/step - loss: 0.0019\n",
      "Epoch 76/100\n",
      "1198/1198 [==============================] - 4s 4ms/step - loss: 0.0017\n",
      "Epoch 77/100\n",
      "1198/1198 [==============================] - 4s 4ms/step - loss: 0.0017\n",
      "Epoch 78/100\n",
      "1198/1198 [==============================] - 4s 4ms/step - loss: 0.0018\n",
      "Epoch 79/100\n",
      "1198/1198 [==============================] - 4s 4ms/step - loss: 0.0019\n",
      "Epoch 80/100\n",
      "1198/1198 [==============================] - 4s 4ms/step - loss: 0.0019\n",
      "Epoch 81/100\n",
      "1198/1198 [==============================] - 4s 4ms/step - loss: 0.0016\n",
      "Epoch 82/100\n",
      "1198/1198 [==============================] - 4s 4ms/step - loss: 0.0018\n",
      "Epoch 83/100\n",
      "1198/1198 [==============================] - 4s 4ms/step - loss: 0.0018\n",
      "Epoch 84/100\n",
      "1198/1198 [==============================] - 4s 4ms/step - loss: 0.0018\n",
      "Epoch 85/100\n",
      "1198/1198 [==============================] - 4s 4ms/step - loss: 0.0016\n",
      "Epoch 86/100\n",
      "1198/1198 [==============================] - 4s 4ms/step - loss: 0.0015\n",
      "Epoch 87/100\n",
      "1198/1198 [==============================] - 4s 4ms/step - loss: 0.0017\n",
      "Epoch 88/100\n",
      "1198/1198 [==============================] - 4s 4ms/step - loss: 0.0018\n",
      "Epoch 89/100\n",
      "1198/1198 [==============================] - 4s 4ms/step - loss: 0.0016\n",
      "Epoch 90/100\n",
      "1198/1198 [==============================] - 4s 4ms/step - loss: 0.0016\n",
      "Epoch 91/100\n",
      "1198/1198 [==============================] - 4s 4ms/step - loss: 0.0017\n",
      "Epoch 92/100\n",
      "1198/1198 [==============================] - 4s 4ms/step - loss: 0.0016\n",
      "Epoch 93/100\n",
      "1198/1198 [==============================] - 4s 4ms/step - loss: 0.0015\n",
      "Epoch 94/100\n",
      "1198/1198 [==============================] - 4s 4ms/step - loss: 0.0014\n",
      "Epoch 95/100\n",
      "1198/1198 [==============================] - 4s 4ms/step - loss: 0.0015\n",
      "Epoch 96/100\n",
      "1198/1198 [==============================] - 4s 4ms/step - loss: 0.0016\n",
      "Epoch 97/100\n"
     ]
    },
    {
     "name": "stdout",
     "output_type": "stream",
     "text": [
      "1198/1198 [==============================] - 4s 4ms/step - loss: 0.0014\n",
      "Epoch 98/100\n",
      "1198/1198 [==============================] - 4s 4ms/step - loss: 0.0015\n",
      "Epoch 99/100\n",
      "1198/1198 [==============================] - 4s 4ms/step - loss: 0.0015\n",
      "Epoch 100/100\n",
      "1198/1198 [==============================] - 4s 4ms/step - loss: 0.0017\n"
     ]
    },
    {
     "data": {
      "text/plain": [
       "<keras.callbacks.History at 0x7f9c803da0b8>"
      ]
     },
     "execution_count": 11,
     "metadata": {},
     "output_type": "execute_result"
    }
   ],
   "source": [
    "#-----------------------------------------------------#\n",
    "#  Compiling and Fitting the RNN to the Training set  #\n",
    "#-----------------------------------------------------#\n",
    "\n",
    "regressor.compile(optimizer = 'adam', loss = 'mean_squared_error') \n",
    "regressor.fit(X_train, y_train, epochs=100, batch_size=32)\n",
    "\n",
    "# the loss function \"mean_squared_error\"(MSE) is used because it is a Regression problem.\n",
    "# epochs = no of iterations. After every 32 (batch_size) datasets, the MSE will be calculated and \n",
    "# the tweaks will be Back Propagated i.e., the weights will be tweaked for every 32 training datasets."
   ]
  },
  {
   "cell_type": "markdown",
   "metadata": {},
   "source": [
    "You can experiment with various optimizers: https://keras.io/optimizers/ \n",
    "\n",
    "\n",
    "## Making Predictions"
   ]
  },
  {
   "cell_type": "code",
   "execution_count": 12,
   "metadata": {},
   "outputs": [],
   "source": [
    "# getting the Actual Stock Prices of Jan-2017\n",
    "dataset_test_path = os.getcwd() + \"Dataset/Google_Stock_Price_Test.csv\"\n",
    "dataset_test = pd.read_csv(dataset_test_path)\n",
    "actual_stock_price = dataset_test.iloc[:,1:2].values\n",
    "\n",
    "# getting the Predicted Stock Prices of Jan-2017\n",
    "# Step1 - preparing the input for the model\n",
    "dataset_total = pd.concat((dataset_train['Open'], dataset_test['Open']), axis = 0)    # axis 0 = vertical concatination\n",
    "inputs = dataset_total[len(dataset_total)- len(dataset_test)-60:].values   # so that we can get the base index\n",
    "\n",
    "inputs = inputs.reshape(-1,1)     # before Reshaping- (80,) after Reshaping- (80,1)\n",
    "inputs = scaler.transform(inputs) # we don't need to fit because we want to use the previously calculated min & max values.\n",
    "\n",
    "X_test = []\n",
    "for i in range(60,80):\n",
    "    X_test.append(inputs[i-60:i, 0])\n",
    "X_test = np.array(X_test)\n",
    "X_test = np.reshape(X_test,(X_test.shape[0], X_test.shape[1], 1))\n",
    "\n",
    "# Step2 - prediction\n",
    "predicted_stock_price = regressor.predict(X_test)\n",
    "predicted_stock_price = scaler.inverse_transform(predicted_stock_price)\n"
   ]
  },
  {
   "cell_type": "markdown",
   "metadata": {},
   "source": [
    "We \"tranform\" the inputs because we want to maintain the consistency w.r.t what we feed to the network. In the end we \"reverse transform\" the data for the convenience of plotting. As you can see in the next section, the actual and predicted stock prices are in the original scale and are not in the transformed state.\n",
    "\n",
    "For a detailed explaination regarding reshaping please read this post: http://anie.me/numpy-reshape-transpose-theano-dimshuffle/\n",
    "\n",
    "## Visualising the Results"
   ]
  },
  {
   "cell_type": "code",
   "execution_count": 13,
   "metadata": {},
   "outputs": [
    {
     "data": {
      "text/plain": [
       "<matplotlib.legend.Legend at 0x7f9c74eb60b8>"
      ]
     },
     "execution_count": 13,
     "metadata": {},
     "output_type": "execute_result"
    },
    {
     "data": {
      "image/png": "[encoded data removed]",
      "text/plain": [
       "<Figure size 432x288 with 1 Axes>"
      ]
     },
     "metadata": {
      "needs_background": "light"
     },
     "output_type": "display_data"
    }
   ],
   "source": [
    "plt.plot(actual_stock_price, color = 'red', label = 'Actual Google Stock Price')\n",
    "plt.plot(predicted_stock_price, color = 'blue', label = 'Predicted Google Stock Price')\n",
    "plt.title('Google Stock Price Prediction')\n",
    "plt.xlabel('Time')\n",
    "plt.ylabel('Google Stock Price')\n",
    "plt.legend()"
   ]
  },
  {
   "cell_type": "markdown",
   "metadata": {},
   "source": [
    "We see that our model closely predicts the trend of the actual stock prices.\n",
    "\n",
    "The model can be further improved and experimented by considering the following (but not limited to):\n",
    "* training the model with more data. Eg: Here we have used 5 years of stock prices but you can train the model with 10 years of data.\n",
    "* increasing the number of timesteps.\n",
    "* adding more LSTM layers.\n",
    "* increasing the units in the LSTM layer.\n",
    "* adding some other indicators. Eg: If you have the financial instinct that the stock price of some other companies might be correlated to the one of Google, you could add this other stock price as a new indicator in the training data.\n",
    "\n",
    "P.S. These could also be computationally expensive."
   ]
  }
 ],
 "metadata": {
  "kernelspec": {
   "display_name": "Python 3",
   "language": "python",
   "name": "python3"
  },
  "language_info": {
   "codemirror_mode": {
    "name": "ipython",
    "version": 3
   },
   "file_extension": ".py",
   "mimetype": "text/x-python",
   "name": "python",
   "nbconvert_exporter": "python",
   "pygments_lexer": "ipython3",
   "version": "3.7.0"
  }
 },
 "nbformat": 4,
 "nbformat_minor": 2
}
